{
 "cells": [
  {
   "cell_type": "markdown",
   "id": "fecb87f7",
   "metadata": {},
   "source": [
    "# Prediction Examples with Emails"
   ]
  },
  {
   "cell_type": "code",
   "execution_count": 1,
   "id": "1c369fdf",
   "metadata": {},
   "outputs": [],
   "source": [
    "from prediction_pipeline import PredictionPipeline"
   ]
  },
  {
   "cell_type": "markdown",
   "id": "cd8f8012",
   "metadata": {},
   "source": [
    "### First of all let´s choose the optimal parameters "
   ]
  },
  {
   "cell_type": "code",
   "execution_count": 2,
   "id": "5a5781bb",
   "metadata": {},
   "outputs": [],
   "source": [
    "best_model_path = \"./results/checkpoint-1317\"\n",
    "tokenizer_path = \"../src/tokenizer\"\n"
   ]
  },
  {
   "cell_type": "code",
   "execution_count": 3,
   "id": "72d02521",
   "metadata": {},
   "outputs": [
    {
     "name": "stderr",
     "output_type": "stream",
     "text": [
      "Special tokens have been added in the vocabulary, make sure the associated word embeddings are fine-tuned or trained.\n"
     ]
    }
   ],
   "source": [
    "prediction_pipeline = PredictionPipeline(best_model_path, tokenizer_path)"
   ]
  },
  {
   "cell_type": "markdown",
   "id": "628ca75f",
   "metadata": {},
   "source": [
    "### Let´s see the result with some emails:"
   ]
  },
  {
   "cell_type": "code",
   "execution_count": 4,
   "id": "7722b9fb",
   "metadata": {},
   "outputs": [
    {
     "name": "stdout",
     "output_type": "stream",
     "text": [
      "Subject: Great Work! Hi Jane, I'm truly impressed with your recent presentation. It was insightful and well-organized. Thanks for your hard work! Looking forward to more of such excellence. Best, Mark\n"
     ]
    }
   ],
   "source": [
    "email_1 = \"Subject: Great Work! Hi Jane, I'm truly impressed with your recent presentation. It was insightful and well-organized. Thanks for your hard work! Looking forward to more of such excellence. Best, Mark\"\n",
    "print(email_1)"
   ]
  },
  {
   "cell_type": "code",
   "execution_count": 5,
   "id": "a4c2dd9a",
   "metadata": {},
   "outputs": [
    {
     "name": "stdout",
     "output_type": "stream",
     "text": [
      "[{'label': 'positive', 'score': 0.9841248989105225}]\n"
     ]
    }
   ],
   "source": [
    "result = prediction_pipeline.predict_with_pipeline(email_1)\n",
    "print(result)"
   ]
  },
  {
   "cell_type": "code",
   "execution_count": 6,
   "id": "b8738396",
   "metadata": {},
   "outputs": [
    {
     "name": "stdout",
     "output_type": "stream",
     "text": [
      "Subject: Appreciation Hello Team, I wanted to commend everyone on the successful product launch. The feedback has been overwhelmingly positive. Great job! Cheers, Sophia\n"
     ]
    }
   ],
   "source": [
    "email_2 = \"Subject: Appreciation Hello Team, I wanted to commend everyone on the successful product launch. The feedback has been overwhelmingly positive. Great job! Cheers, Sophia\"\n",
    "print(email_2)"
   ]
  },
  {
   "cell_type": "code",
   "execution_count": 7,
   "id": "053c2030",
   "metadata": {},
   "outputs": [
    {
     "name": "stdout",
     "output_type": "stream",
     "text": [
      "[{'label': 'positive', 'score': 0.9840714931488037}]\n"
     ]
    }
   ],
   "source": [
    "result = prediction_pipeline.predict_with_pipeline(email_2)\n",
    "print(result)"
   ]
  },
  {
   "cell_type": "code",
   "execution_count": 8,
   "id": "6d23e5c1",
   "metadata": {},
   "outputs": [
    {
     "name": "stdout",
     "output_type": "stream",
     "text": [
      "Subject: Urgent: Meeting Issue Hi Alex, I was left out of today's team meeting. I believe this was an oversight, but it's crucial I'm included in future communications. Please rectify. Best, Liam\n"
     ]
    }
   ],
   "source": [
    "email_3 = \"Subject: Urgent: Meeting Issue Hi Alex, I was left out of today's team meeting. I believe this was an oversight, but it's crucial I'm included in future communications. Please rectify. Best, Liam\"\n",
    "print(email_3)"
   ]
  },
  {
   "cell_type": "code",
   "execution_count": 9,
   "id": "99a12988",
   "metadata": {},
   "outputs": [
    {
     "name": "stdout",
     "output_type": "stream",
     "text": [
      "[{'label': 'negative', 'score': 0.9745222926139832}]\n"
     ]
    }
   ],
   "source": [
    "result = prediction_pipeline.predict_with_pipeline(email_3)\n",
    "print(result)"
   ]
  },
  {
   "cell_type": "code",
   "execution_count": 10,
   "id": "8b2b3c46",
   "metadata": {},
   "outputs": [
    {
     "name": "stdout",
     "output_type": "stream",
     "text": [
      "Subject: Concerned About Delays Team, We've missed another deadline. This is becoming a concerning pattern. We need to discuss this urgently and find solutions. Regards, Sarah\n"
     ]
    }
   ],
   "source": [
    "email_4 = \"Subject: Concerned About Delays Team, We've missed another deadline. This is becoming a concerning pattern. We need to discuss this urgently and find solutions. Regards, Sarah\"\n",
    "print(email_4)"
   ]
  },
  {
   "cell_type": "code",
   "execution_count": 11,
   "id": "83877363",
   "metadata": {},
   "outputs": [
    {
     "name": "stdout",
     "output_type": "stream",
     "text": [
      "[{'label': 'negative', 'score': 0.7841562628746033}]\n"
     ]
    }
   ],
   "source": [
    "result = prediction_pipeline.predict_with_pipeline(email_4)\n",
    "print(result)"
   ]
  }
 ],
 "metadata": {
  "kernelspec": {
   "display_name": "Python 3 (ipykernel)",
   "language": "python",
   "name": "python3"
  },
  "language_info": {
   "codemirror_mode": {
    "name": "ipython",
    "version": 3
   },
   "file_extension": ".py",
   "mimetype": "text/x-python",
   "name": "python",
   "nbconvert_exporter": "python",
   "pygments_lexer": "ipython3",
   "version": "3.9.13"
  }
 },
 "nbformat": 4,
 "nbformat_minor": 5
}
