{
 "cells": [
  {
   "cell_type": "markdown",
   "id": "37270bf9",
   "metadata": {},
   "source": [
    "<h1 style=\"color:DarkBlue;\">Model training</h1>"
   ]
  },
  {
   "cell_type": "code",
   "execution_count": 10,
   "id": "edbb95e0",
   "metadata": {},
   "outputs": [],
   "source": [
    "import pandas as pd\n",
    "from transformers import BertTokenizer, BertForSequenceClassification, Trainer, TrainingArguments, ElectraTokenizer, ElectraForSequenceClassification\n",
    "from sklearn.model_selection import train_test_split\n",
    "from sklearn.metrics import accuracy_score, f1_score\n",
    "import accelerate\n",
    "import torch\n",
    "from class_sentiment import SentimentDataset"
   ]
  },
  {
   "cell_type": "code",
   "execution_count": 11,
   "id": "15cb605e",
   "metadata": {},
   "outputs": [],
   "source": [
    "df = pd.read_csv('../data/data.csv')"
   ]
  },
  {
   "cell_type": "code",
   "execution_count": 12,
   "id": "621a5b8b",
   "metadata": {},
   "outputs": [],
   "source": [
    "# Let´s split the data into training, testing and validation sets\n",
    "\n",
    "train_df, temp_df = train_test_split(df, test_size=0.4, stratify=df['Sentiment'])\n",
    "val_df, test_df = train_test_split(temp_df, test_size=0.5, stratify=temp_df['Sentiment'])"
   ]
  },
  {
   "cell_type": "markdown",
   "id": "03e6348a",
   "metadata": {},
   "source": [
    "Electra will be used, which is a bit different from other masked languages models as it trains a discriminator (similar idea as GANs), and uses less computation compared with models like BERT.\n"
   ]
  },
  {
   "cell_type": "code",
   "execution_count": 13,
   "id": "0b48a917",
   "metadata": {},
   "outputs": [
    {
     "name": "stderr",
     "output_type": "stream",
     "text": [
      "Some weights of ElectraForSequenceClassification were not initialized from the model checkpoint at google/electra-small-discriminator and are newly initialized: ['classifier.dense.weight', 'classifier.dense.bias', 'classifier.out_proj.bias', 'classifier.out_proj.weight']\n",
      "You should probably TRAIN this model on a down-stream task to be able to use it for predictions and inference.\n"
     ]
    }
   ],
   "source": [
    "tokenizer = ElectraTokenizer.from_pretrained('google/electra-small-discriminator')  \n",
    "\n",
    "train_encodings = tokenizer(list(train_df['Sentence']), truncation=True, padding=True, max_length=70) # 70 as max lenght is reasonable (see the EDA)\n",
    "val_encodings = tokenizer(list(val_df['Sentence']), truncation=True, padding=True, max_length=70)\n",
    "test_encodings = tokenizer(list(test_df['Sentence']), truncation=True, padding=True, max_length=70)\n",
    "\n",
    "# Now, let´s convert the sentiments to numeric values i.e positive = 2, neutral = 1 and negative = 0:\n",
    "\n",
    "train_labels = train_df['Sentiment'].replace({'positive': 2, 'neutral': 1, 'negative': 0}).values\n",
    "val_labels = val_df['Sentiment'].replace({'positive': 2, 'neutral': 1, 'negative': 0}).values\n",
    "test_labels = test_df['Sentiment'].replace({'positive': 2, 'neutral': 1, 'negative': 0}).values\n",
    "\n",
    "model_Electra = ElectraForSequenceClassification.from_pretrained('google/electra-small-discriminator', num_labels=3)"
   ]
  },
  {
   "cell_type": "code",
   "execution_count": 14,
   "id": "a61f0990",
   "metadata": {},
   "outputs": [],
   "source": [
    "train_dataset = SentimentDataset(train_encodings, train_labels)\n",
    "val_dataset = SentimentDataset(val_encodings, val_labels)\n",
    "test_dataset = SentimentDataset(test_encodings, test_labels)  "
   ]
  },
  {
   "cell_type": "code",
   "execution_count": 8,
   "id": "a4b6a738",
   "metadata": {},
   "outputs": [
    {
     "data": {
      "text/html": [
       "\n",
       "    <div>\n",
       "      \n",
       "      <progress value='2195' max='2195' style='width:300px; height:20px; vertical-align: middle;'></progress>\n",
       "      [2195/2195 11:10, Epoch 5/5]\n",
       "    </div>\n",
       "    <table border=\"1\" class=\"dataframe\">\n",
       "  <thead>\n",
       " <tr style=\"text-align: left;\">\n",
       "      <th>Epoch</th>\n",
       "      <th>Training Loss</th>\n",
       "      <th>Validation Loss</th>\n",
       "    </tr>\n",
       "  </thead>\n",
       "  <tbody>\n",
       "    <tr>\n",
       "      <td>1</td>\n",
       "      <td>No log</td>\n",
       "      <td>0.745488</td>\n",
       "    </tr>\n",
       "    <tr>\n",
       "      <td>2</td>\n",
       "      <td>0.812700</td>\n",
       "      <td>0.564994</td>\n",
       "    </tr>\n",
       "    <tr>\n",
       "      <td>3</td>\n",
       "      <td>0.548300</td>\n",
       "      <td>0.555679</td>\n",
       "    </tr>\n",
       "    <tr>\n",
       "      <td>4</td>\n",
       "      <td>0.394300</td>\n",
       "      <td>0.603226</td>\n",
       "    </tr>\n",
       "    <tr>\n",
       "      <td>5</td>\n",
       "      <td>0.308100</td>\n",
       "      <td>0.623028</td>\n",
       "    </tr>\n",
       "  </tbody>\n",
       "</table><p>"
      ],
      "text/plain": [
       "<IPython.core.display.HTML object>"
      ]
     },
     "metadata": {},
     "output_type": "display_data"
    },
    {
     "data": {
      "text/html": [],
      "text/plain": [
       "<IPython.core.display.HTML object>"
      ]
     },
     "metadata": {},
     "output_type": "display_data"
    },
    {
     "name": "stdout",
     "output_type": "stream",
     "text": [
      "{'eval_loss': 0.6230275630950928, 'eval_runtime': 7.4254, 'eval_samples_per_second': 157.298, 'eval_steps_per_second': 19.662, 'epoch': 5.0}\n"
     ]
    }
   ],
   "source": [
    "# arguments of training:\n",
    "\n",
    "training_args = TrainingArguments(\n",
    "    output_dir = \"./results\",\n",
    "    per_device_train_batch_size = 8,\n",
    "    per_device_eval_batch_size = 8,\n",
    "    num_train_epochs = 5,\n",
    "    evaluation_strategy = \"epoch\",\n",
    "    logging_dir = './logs',\n",
    "    save_strategy=\"epoch\",\n",
    ")\n",
    "\n",
    "trainer = Trainer(\n",
    "    model=model_Electra,\n",
    "    args=training_args,\n",
    "    train_dataset=train_dataset,\n",
    "    eval_dataset=val_dataset,\n",
    "    \n",
    "    \n",
    ")\n",
    "\n",
    "trainer.train()\n",
    "results = trainer.evaluate()\n",
    "\n",
    "print(results)\n",
    "\n"
   ]
  },
  {
   "cell_type": "code",
   "execution_count": 14,
   "id": "242e0979",
   "metadata": {},
   "outputs": [],
   "source": [
    "# We can see that the best model is reached at Epoch 3, then:\n",
    "best_model_path = \"./results/checkpoint-1317\"\n",
    "best_model = ElectraForSequenceClassification.from_pretrained(best_model_path)\n"
   ]
  },
  {
   "cell_type": "code",
   "execution_count": 15,
   "id": "76fb0f12",
   "metadata": {},
   "outputs": [],
   "source": [
    "trainer_best_model = Trainer(\n",
    "    model=best_model,\n",
    ")\n"
   ]
  },
  {
   "cell_type": "code",
   "execution_count": 17,
   "id": "e08d5b39",
   "metadata": {},
   "outputs": [
    {
     "data": {
      "text/html": [],
      "text/plain": [
       "<IPython.core.display.HTML object>"
      ]
     },
     "metadata": {},
     "output_type": "display_data"
    },
    {
     "name": "stdout",
     "output_type": "stream",
     "text": [
      "Test Accuracy Best Model (train): 0.837660485021398\n",
      "Test F1-Score Best Model (train): 0.83558115943701\n"
     ]
    }
   ],
   "source": [
    "predictions_train = trainer_best_model.predict(train_dataset)\n",
    "pred_labels_train = predictions_train.predictions.argmax(axis=1)\n",
    "\n",
    "accuracy_best_model = accuracy_score(train_labels, pred_labels_train)\n",
    "f1_best_model = f1_score(train_labels, pred_labels_train, average='weighted')\n",
    "\n",
    "print(f\"Test Accuracy Best Model (train): {accuracy_best_model}\")\n",
    "print(f\"Test F1-Score Best Model (train): {f1_best_model}\")"
   ]
  },
  {
   "cell_type": "code",
   "execution_count": 19,
   "id": "922ba75a",
   "metadata": {},
   "outputs": [
    {
     "data": {
      "text/html": [],
      "text/plain": [
       "<IPython.core.display.HTML object>"
      ]
     },
     "metadata": {},
     "output_type": "display_data"
    },
    {
     "name": "stdout",
     "output_type": "stream",
     "text": [
      "Test Accuracy Best Model (validation): 0.8501712328767124\n",
      "Test F1-Score Best Model (validation): 0.8485860184041975\n"
     ]
    }
   ],
   "source": [
    "predictions_validation = trainer_best_model.predict(val_dataset)\n",
    "pred_labels_validation = predictions_validation.predictions.argmax(axis=1)\n",
    "\n",
    "accuracy_best_model = accuracy_score(val_labels, pred_labels_validation)\n",
    "f1_best_model = f1_score(val_labels, pred_labels_validation, average='weighted')\n",
    "\n",
    "print(f\"Test Accuracy Best Model (validation): {accuracy_best_model}\")\n",
    "print(f\"Test F1-Score Best Model (validation): {f1_best_model}\")"
   ]
  },
  {
   "cell_type": "markdown",
   "id": "03105348",
   "metadata": {},
   "source": [
    "Let´s look at the results in test:"
   ]
  },
  {
   "cell_type": "code",
   "execution_count": 16,
   "id": "5230936e",
   "metadata": {},
   "outputs": [
    {
     "data": {
      "text/html": [],
      "text/plain": [
       "<IPython.core.display.HTML object>"
      ]
     },
     "metadata": {},
     "output_type": "display_data"
    },
    {
     "name": "stdout",
     "output_type": "stream",
     "text": [
      "Test Accuracy Best Model: 0.8366124893071001\n",
      "Test F1-Score Best Model: 0.8357335566459931\n"
     ]
    }
   ],
   "source": [
    "predictions_test = trainer_best_model.predict(test_dataset)  \n",
    "\n",
    "pred_labels_test = predictions_test.predictions.argmax(axis=1)\n",
    "\n",
    "accuracy_best_model = accuracy_score(test_labels, pred_labels_test)\n",
    "f1_best_model = f1_score(test_labels, pred_labels_test, average='weighted')\n",
    "\n",
    "print(f\"Test Accuracy Best Model: {accuracy_best_model}\")\n",
    "print(f\"Test F1-Score Best Model: {f1_best_model}\")"
   ]
  },
  {
   "cell_type": "markdown",
   "id": "ab4a552f",
   "metadata": {},
   "source": [
    "The results in train, test and validation look similar. Then, we can say that the model is not overfiting."
   ]
  },
  {
   "cell_type": "markdown",
   "id": "b3b4f50b",
   "metadata": {},
   "source": [
    "### Now, let´s try Bert model:"
   ]
  },
  {
   "cell_type": "code",
   "execution_count": 23,
   "id": "0dc71061",
   "metadata": {},
   "outputs": [],
   "source": [
    "tokenizer = BertTokenizer.from_pretrained('bert-base-uncased')  \n",
    "\n",
    "train_encodings = tokenizer(list(train_df['Sentence']), truncation=True, padding=True, max_length=70) # 70 as max lenght is reasonable (see the EDA)\n",
    "val_encodings = tokenizer(list(val_df['Sentence']), truncation=True, padding=True, max_length=70)\n",
    "test_encodings = tokenizer(list(test_df['Sentence']), truncation=True, padding=True, max_length=70)\n",
    "\n",
    "# Now, let´s convert the sentiments to numeric values i.e positive = 2, neutral = 1 and negative = 0:\n",
    "\n",
    "train_labels = train_df['Sentiment'].replace({'positive': 2, 'neutral': 1, 'negative': 0}).values\n",
    "val_labels = val_df['Sentiment'].replace({'positive': 2, 'neutral': 1, 'negative': 0}).values\n",
    "test_labels = test_df['Sentiment'].replace({'positive': 2, 'neutral': 1, 'negative': 0}).values\n",
    "\n",
    "train_dataset = SentimentDataset(train_encodings, train_labels)\n",
    "val_dataset = SentimentDataset(val_encodings, val_labels)\n",
    "test_dataset = SentimentDataset(test_encodings, test_labels)  "
   ]
  },
  {
   "cell_type": "code",
   "execution_count": 24,
   "id": "72ad9e9b",
   "metadata": {},
   "outputs": [
    {
     "name": "stderr",
     "output_type": "stream",
     "text": [
      "Some weights of BertForSequenceClassification were not initialized from the model checkpoint at bert-base-uncased and are newly initialized: ['classifier.bias', 'classifier.weight']\n",
      "You should probably TRAIN this model on a down-stream task to be able to use it for predictions and inference.\n"
     ]
    }
   ],
   "source": [
    "model_Bert = BertForSequenceClassification.from_pretrained('bert-base-uncased', num_labels=3)"
   ]
  },
  {
   "cell_type": "code",
   "execution_count": 25,
   "id": "f5cf6a66",
   "metadata": {},
   "outputs": [
    {
     "data": {
      "text/html": [
       "\n",
       "    <div>\n",
       "      \n",
       "      <progress value='2195' max='2195' style='width:300px; height:20px; vertical-align: middle;'></progress>\n",
       "      [2195/2195 12:00, Epoch 5/5]\n",
       "    </div>\n",
       "    <table border=\"1\" class=\"dataframe\">\n",
       "  <thead>\n",
       " <tr style=\"text-align: left;\">\n",
       "      <th>Epoch</th>\n",
       "      <th>Training Loss</th>\n",
       "      <th>Validation Loss</th>\n",
       "    </tr>\n",
       "  </thead>\n",
       "  <tbody>\n",
       "    <tr>\n",
       "      <td>1</td>\n",
       "      <td>No log</td>\n",
       "      <td>0.542421</td>\n",
       "    </tr>\n",
       "    <tr>\n",
       "      <td>2</td>\n",
       "      <td>0.626100</td>\n",
       "      <td>0.596719</td>\n",
       "    </tr>\n",
       "    <tr>\n",
       "      <td>3</td>\n",
       "      <td>0.368400</td>\n",
       "      <td>0.757685</td>\n",
       "    </tr>\n",
       "    <tr>\n",
       "      <td>4</td>\n",
       "      <td>0.241400</td>\n",
       "      <td>0.809314</td>\n",
       "    </tr>\n",
       "    <tr>\n",
       "      <td>5</td>\n",
       "      <td>0.179600</td>\n",
       "      <td>0.886464</td>\n",
       "    </tr>\n",
       "  </tbody>\n",
       "</table><p>"
      ],
      "text/plain": [
       "<IPython.core.display.HTML object>"
      ]
     },
     "metadata": {},
     "output_type": "display_data"
    },
    {
     "data": {
      "text/html": [
       "\n",
       "    <div>\n",
       "      \n",
       "      <progress value='146' max='146' style='width:300px; height:20px; vertical-align: middle;'></progress>\n",
       "      [146/146 00:06]\n",
       "    </div>\n",
       "    "
      ],
      "text/plain": [
       "<IPython.core.display.HTML object>"
      ]
     },
     "metadata": {},
     "output_type": "display_data"
    }
   ],
   "source": [
    "# arguments of training:\n",
    "\n",
    "training_args = TrainingArguments(\n",
    "    output_dir = \"./results_Bert\",\n",
    "    per_device_train_batch_size = 8,\n",
    "    per_device_eval_batch_size = 8,\n",
    "    num_train_epochs = 5,\n",
    "    evaluation_strategy = \"epoch\",\n",
    "    logging_dir = './logs',\n",
    "    save_strategy=\"epoch\",\n",
    ")\n",
    "\n",
    "trainer = Trainer(\n",
    "    model=model_Bert,\n",
    "    args=training_args,\n",
    "    train_dataset=train_dataset,\n",
    "    eval_dataset=val_dataset,\n",
    "    \n",
    "    \n",
    ")\n",
    "\n",
    "trainer.train()\n",
    "results = trainer.evaluate()\n"
   ]
  },
  {
   "cell_type": "code",
   "execution_count": 26,
   "id": "409175c4",
   "metadata": {},
   "outputs": [],
   "source": [
    "# We can see that the best model is reached at Epoch 1, then:\n",
    "best_model_path_bert = \"./results_Bert/checkpoint-439\"\n",
    "best_model_bert = BertForSequenceClassification.from_pretrained(best_model_path_bert)\n",
    "\n",
    "trainer_best_model_bert = Trainer(\n",
    "    model=best_model_bert,\n",
    ")\n"
   ]
  },
  {
   "cell_type": "code",
   "execution_count": 27,
   "id": "ffa3c7d1",
   "metadata": {},
   "outputs": [
    {
     "data": {
      "text/html": [],
      "text/plain": [
       "<IPython.core.display.HTML object>"
      ]
     },
     "metadata": {},
     "output_type": "display_data"
    },
    {
     "name": "stdout",
     "output_type": "stream",
     "text": [
      "Test Accuracy Best Model (train): 0.8325249643366619\n",
      "Test F1-Score Best Model (train): 0.8032225821691561\n"
     ]
    }
   ],
   "source": [
    "predictions_train = trainer_best_model_bert.predict(train_dataset)\n",
    "pred_labels_train = predictions_train.predictions.argmax(axis=1)\n",
    "\n",
    "accuracy_best_model = accuracy_score(train_labels, pred_labels_train)\n",
    "f1_best_model = f1_score(train_labels, pred_labels_train, average='weighted')\n",
    "\n",
    "print(f\"Test Accuracy Best Model (train): {accuracy_best_model}\")\n",
    "print(f\"Test F1-Score Best Model (train): {f1_best_model}\")"
   ]
  },
  {
   "cell_type": "code",
   "execution_count": 30,
   "id": "c312cf91",
   "metadata": {},
   "outputs": [
    {
     "data": {
      "text/html": [],
      "text/plain": [
       "<IPython.core.display.HTML object>"
      ]
     },
     "metadata": {},
     "output_type": "display_data"
    },
    {
     "name": "stdout",
     "output_type": "stream",
     "text": [
      "Test Accuracy Best Model (validation): 0.788527397260274\n",
      "Test F1-Score Best Model (validation): 0.7540641896785676\n"
     ]
    }
   ],
   "source": [
    "predictions_validation = trainer_best_model_bert.predict(val_dataset)\n",
    "pred_labels_validation = predictions_validation.predictions.argmax(axis=1)\n",
    "\n",
    "accuracy_best_model = accuracy_score(val_labels, pred_labels_validation)\n",
    "f1_best_model = f1_score(val_labels, pred_labels_validation, average='weighted')\n",
    "\n",
    "print(f\"Test Accuracy Best Model (validation): {accuracy_best_model}\")\n",
    "print(f\"Test F1-Score Best Model (validation): {f1_best_model}\")"
   ]
  },
  {
   "cell_type": "code",
   "execution_count": 31,
   "id": "e585a09e",
   "metadata": {},
   "outputs": [
    {
     "data": {
      "text/html": [],
      "text/plain": [
       "<IPython.core.display.HTML object>"
      ]
     },
     "metadata": {},
     "output_type": "display_data"
    },
    {
     "name": "stdout",
     "output_type": "stream",
     "text": [
      "Test Accuracy Best Model: 0.786142001710864\n",
      "Test F1-Score Best Model: 0.7519835307691051\n"
     ]
    }
   ],
   "source": [
    "predictions_test = trainer_best_model_bert.predict(test_dataset)  \n",
    "\n",
    "pred_labels_test = predictions_test.predictions.argmax(axis=1)\n",
    "\n",
    "accuracy_best_model = accuracy_score(test_labels, pred_labels_test)\n",
    "f1_best_model = f1_score(test_labels, pred_labels_test, average='weighted')\n",
    "\n",
    "print(f\"Test Accuracy Best Model: {accuracy_best_model}\")\n",
    "print(f\"Test F1-Score Best Model: {f1_best_model}\")"
   ]
  },
  {
   "cell_type": "markdown",
   "id": "0a152b0f",
   "metadata": {},
   "source": [
    "The results of the the Electra model is better than the Bert one."
   ]
  },
  {
   "cell_type": "code",
   "execution_count": 33,
   "id": "6ca1cbd6",
   "metadata": {},
   "outputs": [
    {
     "data": {
      "text/plain": [
       "('../src/tokenizer/tokenizer_config.json',\n",
       " '../src/tokenizer/special_tokens_map.json',\n",
       " '../src/tokenizer/vocab.txt',\n",
       " '../src/tokenizer/added_tokens.json')"
      ]
     },
     "execution_count": 33,
     "metadata": {},
     "output_type": "execute_result"
    }
   ],
   "source": [
    "# So, let´s save the best ones:\n",
    "\n",
    "best_model.save_pretrained(\"../src/best_model\")\n",
    "tokenizer.save_pretrained(\"../src/tokenizer\")\n"
   ]
  }
 ],
 "metadata": {
  "kernelspec": {
   "display_name": "Python 3 (ipykernel)",
   "language": "python",
   "name": "python3"
  },
  "language_info": {
   "codemirror_mode": {
    "name": "ipython",
    "version": 3
   },
   "file_extension": ".py",
   "mimetype": "text/x-python",
   "name": "python",
   "nbconvert_exporter": "python",
   "pygments_lexer": "ipython3",
   "version": "3.9.13"
  }
 },
 "nbformat": 4,
 "nbformat_minor": 5
}
